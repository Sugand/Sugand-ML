{
 "cells": [
  {
   "cell_type": "markdown",
   "metadata": {},
   "source": [
    "# Question 1 : Create a function that detects categorical and continuous, calcualtes percentage of missing values and imputes mean/mode for missing values less than 40% and omits the rest.\n",
    "\n",
    "\n",
    "Solution:"
   ]
  },
  {
   "cell_type": "code",
   "execution_count": 1,
   "metadata": {},
   "outputs": [],
   "source": [
    "#Create a random sales data\n",
    "comp <- c('F','F','F','S','S','S','T','T','T')\n",
    "month <- c('Jan','Feb','March','Apr','May','June','July','Aug','Sept')\n",
    "Sales <- c('Low','Medium','High','High','Low','High','Medium','Low','Low')\n",
    "bq1 <- runif(9,min = 0, max = 100)\n",
    "bq2 <- runif(9,min = 0, max = 100)\n",
    "bq3 <- runif(9,min = 0, max = 100)\n",
    "bq4 <- runif(9,min = 0, max = 100)\n",
    "bq5 <- runif(9,min = 0, max = 100)\n",
    "bq6 <- runif(9,min = 0, max = 100)"
   ]
  },
  {
   "cell_type": "code",
   "execution_count": 2,
   "metadata": {},
   "outputs": [],
   "source": [
    "df <- data.frame(Comp = comp, Month = month, Sales = Sales, Qtr1 = bq1, Qtr2 \n",
    "                 = bq2, Qtr3 = bq3, Qtr4 = bq4, Qtr5 = bq5, Qtr6 = bq6)"
   ]
  },
  {
   "cell_type": "code",
   "execution_count": 3,
   "metadata": {},
   "outputs": [
    {
     "data": {
      "text/html": [
       "<table>\n",
       "<thead><tr><th scope=col>Comp</th><th scope=col>Month</th><th scope=col>Sales</th><th scope=col>Qtr1</th><th scope=col>Qtr2</th><th scope=col>Qtr3</th><th scope=col>Qtr4</th><th scope=col>Qtr5</th><th scope=col>Qtr6</th></tr></thead>\n",
       "<tbody>\n",
       "\t<tr><td>F         </td><td>Jan       </td><td>Low       </td><td>12.7278466</td><td>26.825792 </td><td>35.04615  </td><td>68.21294  </td><td>43.895343 </td><td>29.43743  </td></tr>\n",
       "\t<tr><td>F         </td><td>Feb       </td><td>Medium    </td><td>68.8720508</td><td> 9.984841 </td><td>69.04169  </td><td>27.09676  </td><td>32.102103 </td><td>57.81296  </td></tr>\n",
       "\t<tr><td>F         </td><td>March     </td><td>High      </td><td>23.6816562</td><td>40.918672 </td><td>80.38157  </td><td>88.21245  </td><td>88.572029 </td><td>59.69458  </td></tr>\n",
       "\t<tr><td>S         </td><td>Apr       </td><td>High      </td><td>62.0985621</td><td>90.353688 </td><td>51.60383  </td><td>42.64837  </td><td>80.469367 </td><td>95.87846  </td></tr>\n",
       "\t<tr><td>S         </td><td>May       </td><td>Low       </td><td> 0.3150629</td><td>36.553410 </td><td> 6.56865  </td><td>21.66873  </td><td> 6.001076 </td><td>73.60930  </td></tr>\n",
       "\t<tr><td>S         </td><td>June      </td><td>High      </td><td>88.3370723</td><td>57.474166 </td><td>50.00414  </td><td>25.74947  </td><td>84.212527 </td><td>26.49481  </td></tr>\n",
       "\t<tr><td>T         </td><td>July      </td><td>Medium    </td><td>94.3927253</td><td>59.195680 </td><td>20.79636  </td><td>20.91020  </td><td>36.523024 </td><td>36.53746  </td></tr>\n",
       "\t<tr><td>T         </td><td>Aug       </td><td>Low       </td><td>80.8722366</td><td>26.043498 </td><td>98.01793  </td><td>51.87727  </td><td>72.620176 </td><td>84.28960  </td></tr>\n",
       "\t<tr><td>T         </td><td>Sept      </td><td>Low       </td><td>36.3028459</td><td>91.758800 </td><td>78.83076  </td><td>50.93342  </td><td>74.332368 </td><td>60.95385  </td></tr>\n",
       "</tbody>\n",
       "</table>\n"
      ],
      "text/latex": [
       "\\begin{tabular}{r|lllllllll}\n",
       " Comp & Month & Sales & Qtr1 & Qtr2 & Qtr3 & Qtr4 & Qtr5 & Qtr6\\\\\n",
       "\\hline\n",
       "\t F          & Jan        & Low        & 12.7278466 & 26.825792  & 35.04615   & 68.21294   & 43.895343  & 29.43743  \\\\\n",
       "\t F          & Feb        & Medium     & 68.8720508 &  9.984841  & 69.04169   & 27.09676   & 32.102103  & 57.81296  \\\\\n",
       "\t F          & March      & High       & 23.6816562 & 40.918672  & 80.38157   & 88.21245   & 88.572029  & 59.69458  \\\\\n",
       "\t S          & Apr        & High       & 62.0985621 & 90.353688  & 51.60383   & 42.64837   & 80.469367  & 95.87846  \\\\\n",
       "\t S          & May        & Low        &  0.3150629 & 36.553410  &  6.56865   & 21.66873   &  6.001076  & 73.60930  \\\\\n",
       "\t S          & June       & High       & 88.3370723 & 57.474166  & 50.00414   & 25.74947   & 84.212527  & 26.49481  \\\\\n",
       "\t T          & July       & Medium     & 94.3927253 & 59.195680  & 20.79636   & 20.91020   & 36.523024  & 36.53746  \\\\\n",
       "\t T          & Aug        & Low        & 80.8722366 & 26.043498  & 98.01793   & 51.87727   & 72.620176  & 84.28960  \\\\\n",
       "\t T          & Sept       & Low        & 36.3028459 & 91.758800  & 78.83076   & 50.93342   & 74.332368  & 60.95385  \\\\\n",
       "\\end{tabular}\n"
      ],
      "text/markdown": [
       "\n",
       "Comp | Month | Sales | Qtr1 | Qtr2 | Qtr3 | Qtr4 | Qtr5 | Qtr6 | \n",
       "|---|---|---|---|---|---|---|---|---|\n",
       "| F          | Jan        | Low        | 12.7278466 | 26.825792  | 35.04615   | 68.21294   | 43.895343  | 29.43743   | \n",
       "| F          | Feb        | Medium     | 68.8720508 |  9.984841  | 69.04169   | 27.09676   | 32.102103  | 57.81296   | \n",
       "| F          | March      | High       | 23.6816562 | 40.918672  | 80.38157   | 88.21245   | 88.572029  | 59.69458   | \n",
       "| S          | Apr        | High       | 62.0985621 | 90.353688  | 51.60383   | 42.64837   | 80.469367  | 95.87846   | \n",
       "| S          | May        | Low        |  0.3150629 | 36.553410  |  6.56865   | 21.66873   |  6.001076  | 73.60930   | \n",
       "| S          | June       | High       | 88.3370723 | 57.474166  | 50.00414   | 25.74947   | 84.212527  | 26.49481   | \n",
       "| T          | July       | Medium     | 94.3927253 | 59.195680  | 20.79636   | 20.91020   | 36.523024  | 36.53746   | \n",
       "| T          | Aug        | Low        | 80.8722366 | 26.043498  | 98.01793   | 51.87727   | 72.620176  | 84.28960   | \n",
       "| T          | Sept       | Low        | 36.3028459 | 91.758800  | 78.83076   | 50.93342   | 74.332368  | 60.95385   | \n",
       "\n",
       "\n"
      ],
      "text/plain": [
       "  Comp Month Sales  Qtr1       Qtr2      Qtr3     Qtr4     Qtr5      Qtr6    \n",
       "1 F    Jan   Low    12.7278466 26.825792 35.04615 68.21294 43.895343 29.43743\n",
       "2 F    Feb   Medium 68.8720508  9.984841 69.04169 27.09676 32.102103 57.81296\n",
       "3 F    March High   23.6816562 40.918672 80.38157 88.21245 88.572029 59.69458\n",
       "4 S    Apr   High   62.0985621 90.353688 51.60383 42.64837 80.469367 95.87846\n",
       "5 S    May   Low     0.3150629 36.553410  6.56865 21.66873  6.001076 73.60930\n",
       "6 S    June  High   88.3370723 57.474166 50.00414 25.74947 84.212527 26.49481\n",
       "7 T    July  Medium 94.3927253 59.195680 20.79636 20.91020 36.523024 36.53746\n",
       "8 T    Aug   Low    80.8722366 26.043498 98.01793 51.87727 72.620176 84.28960\n",
       "9 T    Sept  Low    36.3028459 91.758800 78.83076 50.93342 74.332368 60.95385"
      ]
     },
     "metadata": {},
     "output_type": "display_data"
    }
   ],
   "source": [
    "df"
   ]
  },
  {
   "cell_type": "code",
   "execution_count": 4,
   "metadata": {},
   "outputs": [],
   "source": [
    "#Create missing values\n",
    "df[5,5] <- NA\n",
    "df[5,4] <- NA\n",
    "df[5,7] <- NA\n",
    "df[5,9] <- NA\n",
    "\n",
    "\n",
    "df[3,5] <- NA\n",
    "df[3,4] <- NA\n",
    "df[3,7] <- NA\n",
    "df[3,9] <- NA\n",
    "\n",
    "df[9,5] <- NA\n",
    "df[9,4] <- NA\n",
    "df[9,6] <- NA\n",
    "df[9,8] <- NA\n",
    "\n",
    "df[7,5] <- NA \n",
    "df[1,5] <- NA\n",
    "\n",
    "df[5,3] <- NA\n",
    "df[2,3] <- NA\n",
    "df[7,1] <- NA\n"
   ]
  },
  {
   "cell_type": "code",
   "execution_count": 5,
   "metadata": {},
   "outputs": [
    {
     "data": {
      "text/html": [
       "<table>\n",
       "<thead><tr><th scope=col>Comp</th><th scope=col>Month</th><th scope=col>Sales</th><th scope=col>Qtr1</th><th scope=col>Qtr2</th><th scope=col>Qtr3</th><th scope=col>Qtr4</th><th scope=col>Qtr5</th><th scope=col>Qtr6</th></tr></thead>\n",
       "<tbody>\n",
       "\t<tr><td>F        </td><td>Jan      </td><td>Low      </td><td>12.72785 </td><td>       NA</td><td>35.04615 </td><td>68.21294 </td><td>43.895343</td><td>29.43743 </td></tr>\n",
       "\t<tr><td>F        </td><td>Feb      </td><td>NA       </td><td>68.87205 </td><td> 9.984841</td><td>69.04169 </td><td>27.09676 </td><td>32.102103</td><td>57.81296 </td></tr>\n",
       "\t<tr><td>F        </td><td>March    </td><td>High     </td><td>      NA </td><td>       NA</td><td>80.38157 </td><td>      NA </td><td>88.572029</td><td>      NA </td></tr>\n",
       "\t<tr><td>S        </td><td>Apr      </td><td>High     </td><td>62.09856 </td><td>90.353688</td><td>51.60383 </td><td>42.64837 </td><td>80.469367</td><td>95.87846 </td></tr>\n",
       "\t<tr><td>S        </td><td>May      </td><td>NA       </td><td>      NA </td><td>       NA</td><td> 6.56865 </td><td>      NA </td><td> 6.001076</td><td>      NA </td></tr>\n",
       "\t<tr><td>S        </td><td>June     </td><td>High     </td><td>88.33707 </td><td>57.474166</td><td>50.00414 </td><td>25.74947 </td><td>84.212527</td><td>26.49481 </td></tr>\n",
       "\t<tr><td>NA       </td><td>July     </td><td>Medium   </td><td>94.39273 </td><td>       NA</td><td>20.79636 </td><td>20.91020 </td><td>36.523024</td><td>36.53746 </td></tr>\n",
       "\t<tr><td>T        </td><td>Aug      </td><td>Low      </td><td>80.87224 </td><td>26.043498</td><td>98.01793 </td><td>51.87727 </td><td>72.620176</td><td>84.28960 </td></tr>\n",
       "\t<tr><td>T        </td><td>Sept     </td><td>Low      </td><td>      NA </td><td>       NA</td><td>      NA </td><td>50.93342 </td><td>       NA</td><td>60.95385 </td></tr>\n",
       "</tbody>\n",
       "</table>\n"
      ],
      "text/latex": [
       "\\begin{tabular}{r|lllllllll}\n",
       " Comp & Month & Sales & Qtr1 & Qtr2 & Qtr3 & Qtr4 & Qtr5 & Qtr6\\\\\n",
       "\\hline\n",
       "\t F         & Jan       & Low       & 12.72785  &        NA & 35.04615  & 68.21294  & 43.895343 & 29.43743 \\\\\n",
       "\t F         & Feb       & NA        & 68.87205  &  9.984841 & 69.04169  & 27.09676  & 32.102103 & 57.81296 \\\\\n",
       "\t F         & March     & High      &       NA  &        NA & 80.38157  &       NA  & 88.572029 &       NA \\\\\n",
       "\t S         & Apr       & High      & 62.09856  & 90.353688 & 51.60383  & 42.64837  & 80.469367 & 95.87846 \\\\\n",
       "\t S         & May       & NA        &       NA  &        NA &  6.56865  &       NA  &  6.001076 &       NA \\\\\n",
       "\t S         & June      & High      & 88.33707  & 57.474166 & 50.00414  & 25.74947  & 84.212527 & 26.49481 \\\\\n",
       "\t NA        & July      & Medium    & 94.39273  &        NA & 20.79636  & 20.91020  & 36.523024 & 36.53746 \\\\\n",
       "\t T         & Aug       & Low       & 80.87224  & 26.043498 & 98.01793  & 51.87727  & 72.620176 & 84.28960 \\\\\n",
       "\t T         & Sept      & Low       &       NA  &        NA &       NA  & 50.93342  &        NA & 60.95385 \\\\\n",
       "\\end{tabular}\n"
      ],
      "text/markdown": [
       "\n",
       "Comp | Month | Sales | Qtr1 | Qtr2 | Qtr3 | Qtr4 | Qtr5 | Qtr6 | \n",
       "|---|---|---|---|---|---|---|---|---|\n",
       "| F         | Jan       | Low       | 12.72785  |        NA | 35.04615  | 68.21294  | 43.895343 | 29.43743  | \n",
       "| F         | Feb       | NA        | 68.87205  |  9.984841 | 69.04169  | 27.09676  | 32.102103 | 57.81296  | \n",
       "| F         | March     | High      |       NA  |        NA | 80.38157  |       NA  | 88.572029 |       NA  | \n",
       "| S         | Apr       | High      | 62.09856  | 90.353688 | 51.60383  | 42.64837  | 80.469367 | 95.87846  | \n",
       "| S         | May       | NA        |       NA  |        NA |  6.56865  |       NA  |  6.001076 |       NA  | \n",
       "| S         | June      | High      | 88.33707  | 57.474166 | 50.00414  | 25.74947  | 84.212527 | 26.49481  | \n",
       "| NA        | July      | Medium    | 94.39273  |        NA | 20.79636  | 20.91020  | 36.523024 | 36.53746  | \n",
       "| T         | Aug       | Low       | 80.87224  | 26.043498 | 98.01793  | 51.87727  | 72.620176 | 84.28960  | \n",
       "| T         | Sept      | Low       |       NA  |        NA |       NA  | 50.93342  |        NA | 60.95385  | \n",
       "\n",
       "\n"
      ],
      "text/plain": [
       "  Comp Month Sales  Qtr1     Qtr2      Qtr3     Qtr4     Qtr5      Qtr6    \n",
       "1 F    Jan   Low    12.72785        NA 35.04615 68.21294 43.895343 29.43743\n",
       "2 F    Feb   NA     68.87205  9.984841 69.04169 27.09676 32.102103 57.81296\n",
       "3 F    March High         NA        NA 80.38157       NA 88.572029       NA\n",
       "4 S    Apr   High   62.09856 90.353688 51.60383 42.64837 80.469367 95.87846\n",
       "5 S    May   NA           NA        NA  6.56865       NA  6.001076       NA\n",
       "6 S    June  High   88.33707 57.474166 50.00414 25.74947 84.212527 26.49481\n",
       "7 NA   July  Medium 94.39273        NA 20.79636 20.91020 36.523024 36.53746\n",
       "8 T    Aug   Low    80.87224 26.043498 98.01793 51.87727 72.620176 84.28960\n",
       "9 T    Sept  Low          NA        NA       NA 50.93342        NA 60.95385"
      ]
     },
     "metadata": {},
     "output_type": "display_data"
    }
   ],
   "source": [
    "df"
   ]
  },
  {
   "cell_type": "code",
   "execution_count": 6,
   "metadata": {},
   "outputs": [
    {
     "name": "stderr",
     "output_type": "stream",
     "text": [
      "\n",
      "Attaching package: 'dplyr'\n",
      "\n",
      "The following objects are masked from 'package:stats':\n",
      "\n",
      "    filter, lag\n",
      "\n",
      "The following objects are masked from 'package:base':\n",
      "\n",
      "    intersect, setdiff, setequal, union\n",
      "\n"
     ]
    }
   ],
   "source": [
    "library(dplyr)\n",
    "# detects if categorical data is present and converts the factors to characters for applying functions that\n",
    "# make playing around with data easier\n",
    "df %>% mutate_if(is.factor, as.character) -> df1"
   ]
  },
  {
   "cell_type": "code",
   "execution_count": 16,
   "metadata": {},
   "outputs": [],
   "source": [
    "#imputation function\n",
    "impute <- function(x){\n",
    "    missing_val <- sum(is.na(x))/length(x)* 100 #percentage of missing values\n",
    "    return(ifelse(missing_val > 40, NA,\n",
    "                   # impute mode for categorical and mean for continuous\n",
    "                   ifelse(is.character(x), names(sort(-table(x[!is.na(x)])))[1], mean(x[!is.na(x)])))) \n",
    "    }"
   ]
  },
  {
   "cell_type": "code",
   "execution_count": 17,
   "metadata": {},
   "outputs": [],
   "source": [
    "impute_val <- sapply(df1, impute) #apply function to dataframe\n",
    "df1[] <- Map(function(x, y) replace(x, is.na(x), y), df1, impute_val) #impute missing values\n",
    "df1 <- na.omit(df1) #drop rows where column has missing percentage > 40\n"
   ]
  },
  {
   "cell_type": "code",
   "execution_count": 18,
   "metadata": {},
   "outputs": [
    {
     "data": {
      "text/html": [
       "<table>\n",
       "<thead><tr><th></th><th scope=col>Comp</th><th scope=col>Month</th><th scope=col>Sales</th><th scope=col>Qtr1</th><th scope=col>Qtr2</th><th scope=col>Qtr3</th><th scope=col>Qtr4</th><th scope=col>Qtr5</th><th scope=col>Qtr6</th></tr></thead>\n",
       "<tbody>\n",
       "\t<tr><th scope=row>2</th><td>F               </td><td>Feb             </td><td>High            </td><td>68.8720508245751</td><td>9.98484091833234</td><td>69.0416901838034</td><td>27.0967628573999</td><td>32.1021030424163</td><td>57.8129638917744</td></tr>\n",
       "\t<tr><th scope=row>4</th><td>S               </td><td>Apr             </td><td>High            </td><td>62.098562088795 </td><td>90.3536882949993</td><td>51.6038304194808</td><td>42.6483653718606</td><td>80.4693668615073</td><td>95.8784554619342</td></tr>\n",
       "\t<tr><th scope=row>6</th><td>S               </td><td>June            </td><td>High            </td><td>88.3370723342523</td><td>57.4741664109752</td><td>50.0041388673708</td><td>25.7494708755985</td><td>84.2125271214172</td><td>26.4948117313907</td></tr>\n",
       "\t<tr><th scope=row>8</th><td>T               </td><td>Aug             </td><td>Low             </td><td>80.8722366113216</td><td>26.0434976778924</td><td>98.0179336620495</td><td>51.8772664712742</td><td>72.6201760349795</td><td>84.2895974870771</td></tr>\n",
       "</tbody>\n",
       "</table>\n"
      ],
      "text/latex": [
       "\\begin{tabular}{r|lllllllll}\n",
       "  & Comp & Month & Sales & Qtr1 & Qtr2 & Qtr3 & Qtr4 & Qtr5 & Qtr6\\\\\n",
       "\\hline\n",
       "\t2 & F                & Feb              & High             & 68.8720508245751 & 9.98484091833234 & 69.0416901838034 & 27.0967628573999 & 32.1021030424163 & 57.8129638917744\\\\\n",
       "\t4 & S                & Apr              & High             & 62.098562088795  & 90.3536882949993 & 51.6038304194808 & 42.6483653718606 & 80.4693668615073 & 95.8784554619342\\\\\n",
       "\t6 & S                & June             & High             & 88.3370723342523 & 57.4741664109752 & 50.0041388673708 & 25.7494708755985 & 84.2125271214172 & 26.4948117313907\\\\\n",
       "\t8 & T                & Aug              & Low              & 80.8722366113216 & 26.0434976778924 & 98.0179336620495 & 51.8772664712742 & 72.6201760349795 & 84.2895974870771\\\\\n",
       "\\end{tabular}\n"
      ],
      "text/markdown": [
       "\n",
       "| <!--/--> | Comp | Month | Sales | Qtr1 | Qtr2 | Qtr3 | Qtr4 | Qtr5 | Qtr6 | \n",
       "|---|---|---|---|\n",
       "| 2 | F                | Feb              | High             | 68.8720508245751 | 9.98484091833234 | 69.0416901838034 | 27.0967628573999 | 32.1021030424163 | 57.8129638917744 | \n",
       "| 4 | S                | Apr              | High             | 62.098562088795  | 90.3536882949993 | 51.6038304194808 | 42.6483653718606 | 80.4693668615073 | 95.8784554619342 | \n",
       "| 6 | S                | June             | High             | 88.3370723342523 | 57.4741664109752 | 50.0041388673708 | 25.7494708755985 | 84.2125271214172 | 26.4948117313907 | \n",
       "| 8 | T                | Aug              | Low              | 80.8722366113216 | 26.0434976778924 | 98.0179336620495 | 51.8772664712742 | 72.6201760349795 | 84.2895974870771 | \n",
       "\n",
       "\n"
      ],
      "text/plain": [
       "  Comp Month Sales Qtr1             Qtr2             Qtr3            \n",
       "2 F    Feb   High  68.8720508245751 9.98484091833234 69.0416901838034\n",
       "4 S    Apr   High  62.098562088795  90.3536882949993 51.6038304194808\n",
       "6 S    June  High  88.3370723342523 57.4741664109752 50.0041388673708\n",
       "8 T    Aug   Low   80.8722366113216 26.0434976778924 98.0179336620495\n",
       "  Qtr4             Qtr5             Qtr6            \n",
       "2 27.0967628573999 32.1021030424163 57.8129638917744\n",
       "4 42.6483653718606 80.4693668615073 95.8784554619342\n",
       "6 25.7494708755985 84.2125271214172 26.4948117313907\n",
       "8 51.8772664712742 72.6201760349795 84.2895974870771"
      ]
     },
     "metadata": {},
     "output_type": "display_data"
    }
   ],
   "source": [
    "df1"
   ]
  },
  {
   "cell_type": "markdown",
   "metadata": {},
   "source": [
    "# Question 2 : Sample the data into equal samples without changing the order\n",
    "\n",
    "\n",
    "Solution:"
   ]
  },
  {
   "cell_type": "code",
   "execution_count": 33,
   "metadata": {},
   "outputs": [],
   "source": [
    "acct_num <- c('4525','52222','22892','67181','67733','737382','5534','2228','7282','45622')"
   ]
  },
  {
   "cell_type": "code",
   "execution_count": 34,
   "metadata": {},
   "outputs": [],
   "source": [
    "Probability <- runif(10, min = 0, max = 10)"
   ]
  },
  {
   "cell_type": "code",
   "execution_count": 35,
   "metadata": {},
   "outputs": [],
   "source": [
    "acct_details <- data.frame(acct_num, Probability)"
   ]
  },
  {
   "cell_type": "code",
   "execution_count": 36,
   "metadata": {},
   "outputs": [
    {
     "data": {
      "text/html": [
       "<table>\n",
       "<thead><tr><th scope=col>acct_num</th><th scope=col>Probability</th></tr></thead>\n",
       "<tbody>\n",
       "\t<tr><td>4525     </td><td>1.5790106</td></tr>\n",
       "\t<tr><td>52222    </td><td>7.1013982</td></tr>\n",
       "\t<tr><td>22892    </td><td>6.3759774</td></tr>\n",
       "\t<tr><td>67181    </td><td>8.9288777</td></tr>\n",
       "\t<tr><td>67733    </td><td>9.6107412</td></tr>\n",
       "\t<tr><td>737382   </td><td>0.9741298</td></tr>\n",
       "\t<tr><td>5534     </td><td>2.8494978</td></tr>\n",
       "\t<tr><td>2228     </td><td>2.1400158</td></tr>\n",
       "\t<tr><td>7282     </td><td>6.1342796</td></tr>\n",
       "\t<tr><td>45622    </td><td>7.7877155</td></tr>\n",
       "</tbody>\n",
       "</table>\n"
      ],
      "text/latex": [
       "\\begin{tabular}{r|ll}\n",
       " acct\\_num & Probability\\\\\n",
       "\\hline\n",
       "\t 4525      & 1.5790106\\\\\n",
       "\t 52222     & 7.1013982\\\\\n",
       "\t 22892     & 6.3759774\\\\\n",
       "\t 67181     & 8.9288777\\\\\n",
       "\t 67733     & 9.6107412\\\\\n",
       "\t 737382    & 0.9741298\\\\\n",
       "\t 5534      & 2.8494978\\\\\n",
       "\t 2228      & 2.1400158\\\\\n",
       "\t 7282      & 6.1342796\\\\\n",
       "\t 45622     & 7.7877155\\\\\n",
       "\\end{tabular}\n"
      ],
      "text/markdown": [
       "\n",
       "acct_num | Probability | \n",
       "|---|---|---|---|---|---|---|---|---|---|\n",
       "| 4525      | 1.5790106 | \n",
       "| 52222     | 7.1013982 | \n",
       "| 22892     | 6.3759774 | \n",
       "| 67181     | 8.9288777 | \n",
       "| 67733     | 9.6107412 | \n",
       "| 737382    | 0.9741298 | \n",
       "| 5534      | 2.8494978 | \n",
       "| 2228      | 2.1400158 | \n",
       "| 7282      | 6.1342796 | \n",
       "| 45622     | 7.7877155 | \n",
       "\n",
       "\n"
      ],
      "text/plain": [
       "   acct_num Probability\n",
       "1  4525     1.5790106  \n",
       "2  52222    7.1013982  \n",
       "3  22892    6.3759774  \n",
       "4  67181    8.9288777  \n",
       "5  67733    9.6107412  \n",
       "6  737382   0.9741298  \n",
       "7  5534     2.8494978  \n",
       "8  2228     2.1400158  \n",
       "9  7282     6.1342796  \n",
       "10 45622    7.7877155  "
      ]
     },
     "metadata": {},
     "output_type": "display_data"
    }
   ],
   "source": [
    "acct_details"
   ]
  },
  {
   "cell_type": "code",
   "execution_count": 37,
   "metadata": {},
   "outputs": [],
   "source": [
    "#order the probability\n",
    "acct_details2 <- acct_details[order(acct_details$Probability),]"
   ]
  },
  {
   "cell_type": "code",
   "execution_count": 38,
   "metadata": {},
   "outputs": [
    {
     "data": {
      "text/html": [
       "<table>\n",
       "<thead><tr><th></th><th scope=col>acct_num</th><th scope=col>Probability</th></tr></thead>\n",
       "<tbody>\n",
       "\t<tr><th scope=row>6</th><td>737382   </td><td>0.9741298</td></tr>\n",
       "\t<tr><th scope=row>1</th><td>4525     </td><td>1.5790106</td></tr>\n",
       "\t<tr><th scope=row>8</th><td>2228     </td><td>2.1400158</td></tr>\n",
       "\t<tr><th scope=row>7</th><td>5534     </td><td>2.8494978</td></tr>\n",
       "\t<tr><th scope=row>9</th><td>7282     </td><td>6.1342796</td></tr>\n",
       "\t<tr><th scope=row>3</th><td>22892    </td><td>6.3759774</td></tr>\n",
       "\t<tr><th scope=row>2</th><td>52222    </td><td>7.1013982</td></tr>\n",
       "\t<tr><th scope=row>10</th><td>45622    </td><td>7.7877155</td></tr>\n",
       "\t<tr><th scope=row>4</th><td>67181    </td><td>8.9288777</td></tr>\n",
       "\t<tr><th scope=row>5</th><td>67733    </td><td>9.6107412</td></tr>\n",
       "</tbody>\n",
       "</table>\n"
      ],
      "text/latex": [
       "\\begin{tabular}{r|ll}\n",
       "  & acct\\_num & Probability\\\\\n",
       "\\hline\n",
       "\t6 & 737382    & 0.9741298\\\\\n",
       "\t1 & 4525      & 1.5790106\\\\\n",
       "\t8 & 2228      & 2.1400158\\\\\n",
       "\t7 & 5534      & 2.8494978\\\\\n",
       "\t9 & 7282      & 6.1342796\\\\\n",
       "\t3 & 22892     & 6.3759774\\\\\n",
       "\t2 & 52222     & 7.1013982\\\\\n",
       "\t10 & 45622     & 7.7877155\\\\\n",
       "\t4 & 67181     & 8.9288777\\\\\n",
       "\t5 & 67733     & 9.6107412\\\\\n",
       "\\end{tabular}\n"
      ],
      "text/markdown": [
       "\n",
       "| <!--/--> | acct_num | Probability | \n",
       "|---|---|---|---|---|---|---|---|---|---|\n",
       "| 6 | 737382    | 0.9741298 | \n",
       "| 1 | 4525      | 1.5790106 | \n",
       "| 8 | 2228      | 2.1400158 | \n",
       "| 7 | 5534      | 2.8494978 | \n",
       "| 9 | 7282      | 6.1342796 | \n",
       "| 3 | 22892     | 6.3759774 | \n",
       "| 2 | 52222     | 7.1013982 | \n",
       "| 10 | 45622     | 7.7877155 | \n",
       "| 4 | 67181     | 8.9288777 | \n",
       "| 5 | 67733     | 9.6107412 | \n",
       "\n",
       "\n"
      ],
      "text/plain": [
       "   acct_num Probability\n",
       "6  737382   0.9741298  \n",
       "1  4525     1.5790106  \n",
       "8  2228     2.1400158  \n",
       "7  5534     2.8494978  \n",
       "9  7282     6.1342796  \n",
       "3  22892    6.3759774  \n",
       "2  52222    7.1013982  \n",
       "10 45622    7.7877155  \n",
       "4  67181    8.9288777  \n",
       "5  67733    9.6107412  "
      ]
     },
     "metadata": {},
     "output_type": "display_data"
    }
   ],
   "source": [
    "acct_details2"
   ]
  },
  {
   "cell_type": "code",
   "execution_count": 40,
   "metadata": {},
   "outputs": [],
   "source": [
    "#split the data equally\n",
    "split_data <- split(acct_details2, rep(1:5, each = 2))"
   ]
  },
  {
   "cell_type": "code",
   "execution_count": 41,
   "metadata": {},
   "outputs": [
    {
     "data": {
      "text/html": [
       "<dl>\n",
       "\t<dt>$`1`</dt>\n",
       "\t\t<dd><table>\n",
       "<thead><tr><th></th><th scope=col>acct_num</th><th scope=col>Probability</th></tr></thead>\n",
       "<tbody>\n",
       "\t<tr><th scope=row>6</th><td>737382   </td><td>0.9741298</td></tr>\n",
       "\t<tr><th scope=row>1</th><td>4525     </td><td>1.5790106</td></tr>\n",
       "</tbody>\n",
       "</table>\n",
       "</dd>\n",
       "\t<dt>$`2`</dt>\n",
       "\t\t<dd><table>\n",
       "<thead><tr><th></th><th scope=col>acct_num</th><th scope=col>Probability</th></tr></thead>\n",
       "<tbody>\n",
       "\t<tr><th scope=row>8</th><td>2228    </td><td>2.140016</td></tr>\n",
       "\t<tr><th scope=row>7</th><td>5534    </td><td>2.849498</td></tr>\n",
       "</tbody>\n",
       "</table>\n",
       "</dd>\n",
       "\t<dt>$`3`</dt>\n",
       "\t\t<dd><table>\n",
       "<thead><tr><th></th><th scope=col>acct_num</th><th scope=col>Probability</th></tr></thead>\n",
       "<tbody>\n",
       "\t<tr><th scope=row>9</th><td>7282    </td><td>6.134280</td></tr>\n",
       "\t<tr><th scope=row>3</th><td>22892   </td><td>6.375977</td></tr>\n",
       "</tbody>\n",
       "</table>\n",
       "</dd>\n",
       "\t<dt>$`4`</dt>\n",
       "\t\t<dd><table>\n",
       "<thead><tr><th></th><th scope=col>acct_num</th><th scope=col>Probability</th></tr></thead>\n",
       "<tbody>\n",
       "\t<tr><th scope=row>2</th><td>52222   </td><td>7.101398</td></tr>\n",
       "\t<tr><th scope=row>10</th><td>45622   </td><td>7.787715</td></tr>\n",
       "</tbody>\n",
       "</table>\n",
       "</dd>\n",
       "\t<dt>$`5`</dt>\n",
       "\t\t<dd><table>\n",
       "<thead><tr><th></th><th scope=col>acct_num</th><th scope=col>Probability</th></tr></thead>\n",
       "<tbody>\n",
       "\t<tr><th scope=row>4</th><td>67181   </td><td>8.928878</td></tr>\n",
       "\t<tr><th scope=row>5</th><td>67733   </td><td>9.610741</td></tr>\n",
       "</tbody>\n",
       "</table>\n",
       "</dd>\n",
       "</dl>\n"
      ],
      "text/latex": [
       "\\begin{description}\n",
       "\\item[\\$`1`] \\begin{tabular}{r|ll}\n",
       "  & acct\\_num & Probability\\\\\n",
       "\\hline\n",
       "\t6 & 737382    & 0.9741298\\\\\n",
       "\t1 & 4525      & 1.5790106\\\\\n",
       "\\end{tabular}\n",
       "\n",
       "\\item[\\$`2`] \\begin{tabular}{r|ll}\n",
       "  & acct\\_num & Probability\\\\\n",
       "\\hline\n",
       "\t8 & 2228     & 2.140016\\\\\n",
       "\t7 & 5534     & 2.849498\\\\\n",
       "\\end{tabular}\n",
       "\n",
       "\\item[\\$`3`] \\begin{tabular}{r|ll}\n",
       "  & acct\\_num & Probability\\\\\n",
       "\\hline\n",
       "\t9 & 7282     & 6.134280\\\\\n",
       "\t3 & 22892    & 6.375977\\\\\n",
       "\\end{tabular}\n",
       "\n",
       "\\item[\\$`4`] \\begin{tabular}{r|ll}\n",
       "  & acct\\_num & Probability\\\\\n",
       "\\hline\n",
       "\t2 & 52222    & 7.101398\\\\\n",
       "\t10 & 45622    & 7.787715\\\\\n",
       "\\end{tabular}\n",
       "\n",
       "\\item[\\$`5`] \\begin{tabular}{r|ll}\n",
       "  & acct\\_num & Probability\\\\\n",
       "\\hline\n",
       "\t4 & 67181    & 8.928878\\\\\n",
       "\t5 & 67733    & 9.610741\\\\\n",
       "\\end{tabular}\n",
       "\n",
       "\\end{description}\n"
      ],
      "text/markdown": [
       "$`1`\n",
       ":   \n",
       "| <!--/--> | acct_num | Probability | \n",
       "|---|---|\n",
       "| 6 | 737382    | 0.9741298 | \n",
       "| 1 | 4525      | 1.5790106 | \n",
       "\n",
       "\n",
       "\n",
       "$`2`\n",
       ":   \n",
       "| <!--/--> | acct_num | Probability | \n",
       "|---|---|\n",
       "| 8 | 2228     | 2.140016 | \n",
       "| 7 | 5534     | 2.849498 | \n",
       "\n",
       "\n",
       "\n",
       "$`3`\n",
       ":   \n",
       "| <!--/--> | acct_num | Probability | \n",
       "|---|---|\n",
       "| 9 | 7282     | 6.134280 | \n",
       "| 3 | 22892    | 6.375977 | \n",
       "\n",
       "\n",
       "\n",
       "$`4`\n",
       ":   \n",
       "| <!--/--> | acct_num | Probability | \n",
       "|---|---|\n",
       "| 2 | 52222    | 7.101398 | \n",
       "| 10 | 45622    | 7.787715 | \n",
       "\n",
       "\n",
       "\n",
       "$`5`\n",
       ":   \n",
       "| <!--/--> | acct_num | Probability | \n",
       "|---|---|\n",
       "| 4 | 67181    | 8.928878 | \n",
       "| 5 | 67733    | 9.610741 | \n",
       "\n",
       "\n",
       "\n",
       "\n",
       "\n"
      ],
      "text/plain": [
       "$`1`\n",
       "  acct_num Probability\n",
       "6   737382   0.9741298\n",
       "1     4525   1.5790106\n",
       "\n",
       "$`2`\n",
       "  acct_num Probability\n",
       "8     2228    2.140016\n",
       "7     5534    2.849498\n",
       "\n",
       "$`3`\n",
       "  acct_num Probability\n",
       "9     7282    6.134280\n",
       "3    22892    6.375977\n",
       "\n",
       "$`4`\n",
       "   acct_num Probability\n",
       "2     52222    7.101398\n",
       "10    45622    7.787715\n",
       "\n",
       "$`5`\n",
       "  acct_num Probability\n",
       "4    67181    8.928878\n",
       "5    67733    9.610741\n"
      ]
     },
     "metadata": {},
     "output_type": "display_data"
    }
   ],
   "source": [
    "split_data"
   ]
  }
 ],
 "metadata": {
  "kernelspec": {
   "display_name": "R",
   "language": "R",
   "name": "ir"
  },
  "language_info": {
   "codemirror_mode": "r",
   "file_extension": ".r",
   "mimetype": "text/x-r-source",
   "name": "R",
   "pygments_lexer": "r",
   "version": "3.4.3"
  }
 },
 "nbformat": 4,
 "nbformat_minor": 2
}
